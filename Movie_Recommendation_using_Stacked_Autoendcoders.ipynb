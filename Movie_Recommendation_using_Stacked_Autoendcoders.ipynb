{
  "nbformat": 4,
  "nbformat_minor": 0,
  "metadata": {
    "colab": {
      "name": "Movie_Recommendation_using_Stacked_Autoendcoders.ipynb",
      "provenance": []
    },
    "kernelspec": {
      "name": "python3",
      "display_name": "Python 3"
    }
  },
  "cells": [
    {
      "cell_type": "markdown",
      "metadata": {
        "id": "lRbm7V1gY6Ya",
        "colab_type": "text"
      },
      "source": [
        "# Import Libraries"
      ]
    },
    {
      "cell_type": "code",
      "metadata": {
        "id": "kgYjHALLY5HI",
        "colab_type": "code",
        "colab": {}
      },
      "source": [
        "import pandas as pd\n",
        "import numpy as np\n",
        "import torch\n",
        "import torch.nn as nn\n",
        "import torch.nn.parallel\n",
        "import torch.optim as optim\n",
        "import torch.utils.data\n",
        "from torch.autograd import Variable"
      ],
      "execution_count": 2,
      "outputs": []
    },
    {
      "cell_type": "markdown",
      "metadata": {
        "id": "bXD1IXX1Y-rh",
        "colab_type": "text"
      },
      "source": [
        "# Import dataset"
      ]
    },
    {
      "cell_type": "markdown",
      "metadata": {
        "id": "mNbIGqHQZA-K",
        "colab_type": "text"
      },
      "source": [
        "## ML-100K Dataset"
      ]
    },
    {
      "cell_type": "code",
      "metadata": {
        "id": "FbZ9ajDPaC2i",
        "colab_type": "code",
        "colab": {
          "base_uri": "https://localhost:8080/",
          "height": 646
        },
        "outputId": "f2714fdc-f696-475e-9e84-90b76126986d"
      },
      "source": [
        "!wget \"http://files.grouplens.org/datasets/movielens/ml-100k.zip\"\n",
        "!unzip ml-100k.zip\n",
        "!ls"
      ],
      "execution_count": 3,
      "outputs": [
        {
          "output_type": "stream",
          "text": [
            "--2020-07-18 18:18:50--  http://files.grouplens.org/datasets/movielens/ml-100k.zip\n",
            "Resolving files.grouplens.org (files.grouplens.org)... 128.101.65.152\n",
            "Connecting to files.grouplens.org (files.grouplens.org)|128.101.65.152|:80... connected.\n",
            "HTTP request sent, awaiting response... 200 OK\n",
            "Length: 4924029 (4.7M) [application/zip]\n",
            "Saving to: ‘ml-100k.zip’\n",
            "\n",
            "\rml-100k.zip           0%[                    ]       0  --.-KB/s               \rml-100k.zip          18%[==>                 ] 884.39K  3.94MB/s               \rml-100k.zip         100%[===================>]   4.70M  15.5MB/s    in 0.3s    \n",
            "\n",
            "2020-07-18 18:18:50 (15.5 MB/s) - ‘ml-100k.zip’ saved [4924029/4924029]\n",
            "\n",
            "Archive:  ml-100k.zip\n",
            "   creating: ml-100k/\n",
            "  inflating: ml-100k/allbut.pl       \n",
            "  inflating: ml-100k/mku.sh          \n",
            "  inflating: ml-100k/README          \n",
            "  inflating: ml-100k/u.data          \n",
            "  inflating: ml-100k/u.genre         \n",
            "  inflating: ml-100k/u.info          \n",
            "  inflating: ml-100k/u.item          \n",
            "  inflating: ml-100k/u.occupation    \n",
            "  inflating: ml-100k/u.user          \n",
            "  inflating: ml-100k/u1.base         \n",
            "  inflating: ml-100k/u1.test         \n",
            "  inflating: ml-100k/u2.base         \n",
            "  inflating: ml-100k/u2.test         \n",
            "  inflating: ml-100k/u3.base         \n",
            "  inflating: ml-100k/u3.test         \n",
            "  inflating: ml-100k/u4.base         \n",
            "  inflating: ml-100k/u4.test         \n",
            "  inflating: ml-100k/u5.base         \n",
            "  inflating: ml-100k/u5.test         \n",
            "  inflating: ml-100k/ua.base         \n",
            "  inflating: ml-100k/ua.test         \n",
            "  inflating: ml-100k/ub.base         \n",
            "  inflating: ml-100k/ub.test         \n",
            "ml-100k  ml-100k.zip  sample_data\n"
          ],
          "name": "stdout"
        }
      ]
    },
    {
      "cell_type": "markdown",
      "metadata": {
        "id": "qcLmpN-_Z97i",
        "colab_type": "text"
      },
      "source": [
        "## ML-1M Dataset"
      ]
    },
    {
      "cell_type": "code",
      "metadata": {
        "id": "fsmo0OQPaIMJ",
        "colab_type": "code",
        "colab": {
          "base_uri": "https://localhost:8080/",
          "height": 323
        },
        "outputId": "94d6eb59-aa22-4bc5-b803-15be258f7a79"
      },
      "source": [
        "!wget \"http://files.grouplens.org/datasets/movielens/ml-1m.zip\"\n",
        "!unzip ml-1m.zip\n",
        "!ls"
      ],
      "execution_count": 4,
      "outputs": [
        {
          "output_type": "stream",
          "text": [
            "--2020-07-18 18:18:58--  http://files.grouplens.org/datasets/movielens/ml-1m.zip\n",
            "Resolving files.grouplens.org (files.grouplens.org)... 128.101.65.152\n",
            "Connecting to files.grouplens.org (files.grouplens.org)|128.101.65.152|:80... connected.\n",
            "HTTP request sent, awaiting response... 200 OK\n",
            "Length: 5917549 (5.6M) [application/zip]\n",
            "Saving to: ‘ml-1m.zip’\n",
            "\n",
            "\rml-1m.zip             0%[                    ]       0  --.-KB/s               \rml-1m.zip            14%[=>                  ] 817.93K  3.62MB/s               \rml-1m.zip           100%[===================>]   5.64M  18.1MB/s    in 0.3s    \n",
            "\n",
            "2020-07-18 18:18:58 (18.1 MB/s) - ‘ml-1m.zip’ saved [5917549/5917549]\n",
            "\n",
            "Archive:  ml-1m.zip\n",
            "   creating: ml-1m/\n",
            "  inflating: ml-1m/movies.dat        \n",
            "  inflating: ml-1m/ratings.dat       \n",
            "  inflating: ml-1m/README            \n",
            "  inflating: ml-1m/users.dat         \n",
            "ml-100k  ml-100k.zip  ml-1m  ml-1m.zip\tsample_data\n"
          ],
          "name": "stdout"
        }
      ]
    },
    {
      "cell_type": "markdown",
      "metadata": {
        "id": "50vpfd7DbSoh",
        "colab_type": "text"
      },
      "source": [
        "# Data preprocessing"
      ]
    },
    {
      "cell_type": "markdown",
      "metadata": {
        "id": "KUYl6u9taIov",
        "colab_type": "text"
      },
      "source": [
        "## Preparing the Training Set and Test Set"
      ]
    },
    {
      "cell_type": "code",
      "metadata": {
        "id": "r6UcSQU6anD2",
        "colab_type": "code",
        "colab": {}
      },
      "source": [
        "training_set = pd.read_csv('ml-100k/u1.base', delimiter='\\t')\n",
        "training_set = np.array(training_set, dtype='int')\n",
        "test_set = pd.read_csv('ml-100k/u1.test', delimiter='\\t')\n",
        "test_set = np.array(test_set, dtype='int')"
      ],
      "execution_count": 5,
      "outputs": []
    },
    {
      "cell_type": "markdown",
      "metadata": {
        "id": "nFVsZCADbM3Z",
        "colab_type": "text"
      },
      "source": [
        "## Get the Number of Users and Movies"
      ]
    },
    {
      "cell_type": "code",
      "metadata": {
        "id": "bx975n-dbYpj",
        "colab_type": "code",
        "colab": {}
      },
      "source": [
        "num_users = int(max(max(training_set[:, 0]), max(test_set[:, 0])))\n",
        "num_movies = int(max(max(training_set[:, 1]), max(test_set[:, 1])))"
      ],
      "execution_count": 6,
      "outputs": []
    },
    {
      "cell_type": "markdown",
      "metadata": {
        "id": "cIRF6_jFb6Vd",
        "colab_type": "text"
      },
      "source": [
        "## Convert data such that users are rows and movies are columns"
      ]
    },
    {
      "cell_type": "code",
      "metadata": {
        "id": "qHnPNZyOcD3i",
        "colab_type": "code",
        "colab": {}
      },
      "source": [
        "def convert(data):\n",
        "  new_data = []\n",
        "  for id_user in range(1, num_users + 1):\n",
        "    id_movies = data[:, 1][data[:, 0] == id_user]\n",
        "    id_ratings = data[:, 2][data[:, 0] == id_user]\n",
        "    ratings = np.zeros(num_movies)\n",
        "    ratings[id_movies - 1] = id_ratings\n",
        "    new_data.append(list(ratings))\n",
        "  return new_data\n",
        "\n",
        "training_set = convert(training_set)\n",
        "test_set = convert(test_set)"
      ],
      "execution_count": 7,
      "outputs": []
    },
    {
      "cell_type": "markdown",
      "metadata": {
        "id": "PVVR3qZBdHI4",
        "colab_type": "text"
      },
      "source": [
        "## Convert data to torch tensors"
      ]
    },
    {
      "cell_type": "code",
      "metadata": {
        "id": "QB2pTBjXdKI1",
        "colab_type": "code",
        "colab": {}
      },
      "source": [
        "training_set = torch.FloatTensor(training_set)\n",
        "test_set = torch.FloatTensor(test_set)"
      ],
      "execution_count": 8,
      "outputs": []
    },
    {
      "cell_type": "markdown",
      "metadata": {
        "id": "094GcFHMc5mj",
        "colab_type": "text"
      },
      "source": [
        "# Creating the architecture of the Neural Network "
      ]
    },
    {
      "cell_type": "code",
      "metadata": {
        "id": "m-SQwYQVd-sv",
        "colab_type": "code",
        "colab": {}
      },
      "source": [
        "class SAE(nn.Module):\n",
        "  def __init__(self, ):\n",
        "    super(SAE, self).__init__()    #inherit form the nn module\n",
        "    # encoding\n",
        "    self.fc1 = nn.Linear(num_movies, 20)\n",
        "    self.fc2 = nn.Linear(20, 10)\n",
        "    # decoding\n",
        "    self.fc3 = nn.Linear(10, 20)\n",
        "    self.fc4 = nn.Linear(20, num_movies)\n",
        "    #activation function\n",
        "    self.activation = nn.Sigmoid()\n",
        "  def forward(self, X):\n",
        "    X = self.activation(self.fc1(X))\n",
        "    X = self.activation(self.fc2(X))\n",
        "    X = self.activation(self.fc3(X))\n",
        "    X = self.fc4(X)\n",
        "    return X\n"
      ],
      "execution_count": 12,
      "outputs": []
    },
    {
      "cell_type": "markdown",
      "metadata": {
        "id": "PYzHKfEXf7l-",
        "colab_type": "text"
      },
      "source": [
        "# Create an SAE Object"
      ]
    },
    {
      "cell_type": "code",
      "metadata": {
        "id": "eVDU9BZUf-C2",
        "colab_type": "code",
        "colab": {}
      },
      "source": [
        "sae = SAE()\n",
        "criterion = nn.MSELoss()\n",
        "optimizer = optim.RMSprop(sae.parameters(), lr = 0.01, weight_decay = 0.5)"
      ],
      "execution_count": 13,
      "outputs": []
    },
    {
      "cell_type": "markdown",
      "metadata": {
        "id": "c9g5lWzvf-LI",
        "colab_type": "text"
      },
      "source": [
        "# Train the SAE model"
      ]
    },
    {
      "cell_type": "code",
      "metadata": {
        "id": "Ifd5MgTVf_7-",
        "colab_type": "code",
        "colab": {
          "base_uri": "https://localhost:8080/",
          "height": 1000
        },
        "outputId": "fff1a4a4-c905-4cf0-bd90-49e28d649ca0"
      },
      "source": [
        "num_epoch = 200\n",
        "for epoch in range(1, num_epoch + 1):\n",
        "  train_loss = 0\n",
        "  s = 0.\n",
        "  for id_user in range(num_users):\n",
        "    input = Variable(training_set[id_user]).unsqueeze(0)\n",
        "    target = input.clone()\n",
        "    if torch.sum(target.data > 0) > 0:\n",
        "      output = sae(input)\n",
        "      target.require_grad = False\n",
        "      output[target == 0] = 0\n",
        "      loss = criterion(output, target)\n",
        "      mean_corrector = num_movies/(float(torch.sum(target.data > 0) + 1e-10))\n",
        "      loss.backward()\n",
        "      train_loss += np.sqrt(loss.data*mean_corrector)\n",
        "      s += 1.\n",
        "      optimizer.step()\n",
        "  print('epoch: '+str(epoch)+' loss: '+str(train_loss/s))"
      ],
      "execution_count": 15,
      "outputs": [
        {
          "output_type": "stream",
          "text": [
            "epoch: 1 loss: tensor(1.7660)\n",
            "epoch: 2 loss: tensor(1.0967)\n",
            "epoch: 3 loss: tensor(1.0535)\n",
            "epoch: 4 loss: tensor(1.0382)\n",
            "epoch: 5 loss: tensor(1.0310)\n",
            "epoch: 6 loss: tensor(1.0265)\n",
            "epoch: 7 loss: tensor(1.0238)\n",
            "epoch: 8 loss: tensor(1.0218)\n",
            "epoch: 9 loss: tensor(1.0208)\n",
            "epoch: 10 loss: tensor(1.0197)\n",
            "epoch: 11 loss: tensor(1.0189)\n",
            "epoch: 12 loss: tensor(1.0184)\n",
            "epoch: 13 loss: tensor(1.0178)\n",
            "epoch: 14 loss: tensor(1.0174)\n",
            "epoch: 15 loss: tensor(1.0173)\n",
            "epoch: 16 loss: tensor(1.0169)\n",
            "epoch: 17 loss: tensor(1.0166)\n",
            "epoch: 18 loss: tensor(1.0165)\n",
            "epoch: 19 loss: tensor(1.0162)\n",
            "epoch: 20 loss: tensor(1.0161)\n",
            "epoch: 21 loss: tensor(1.0160)\n",
            "epoch: 22 loss: tensor(1.0159)\n",
            "epoch: 23 loss: tensor(1.0159)\n",
            "epoch: 24 loss: tensor(1.0157)\n",
            "epoch: 25 loss: tensor(1.0159)\n",
            "epoch: 26 loss: tensor(1.0155)\n",
            "epoch: 27 loss: tensor(1.0153)\n",
            "epoch: 28 loss: tensor(1.0151)\n",
            "epoch: 29 loss: tensor(1.0139)\n",
            "epoch: 30 loss: tensor(1.0120)\n",
            "epoch: 31 loss: tensor(1.0097)\n",
            "epoch: 32 loss: tensor(1.0088)\n",
            "epoch: 33 loss: tensor(1.0052)\n",
            "epoch: 34 loss: tensor(1.0054)\n",
            "epoch: 35 loss: tensor(1.0011)\n",
            "epoch: 36 loss: tensor(1.0001)\n",
            "epoch: 37 loss: tensor(0.9969)\n",
            "epoch: 38 loss: tensor(0.9930)\n",
            "epoch: 39 loss: tensor(0.9938)\n",
            "epoch: 40 loss: tensor(0.9910)\n",
            "epoch: 41 loss: tensor(0.9890)\n",
            "epoch: 42 loss: tensor(0.9874)\n",
            "epoch: 43 loss: tensor(0.9835)\n",
            "epoch: 44 loss: tensor(0.9827)\n",
            "epoch: 45 loss: tensor(0.9800)\n",
            "epoch: 46 loss: tensor(0.9805)\n",
            "epoch: 47 loss: tensor(0.9774)\n",
            "epoch: 48 loss: tensor(0.9754)\n",
            "epoch: 49 loss: tensor(0.9695)\n",
            "epoch: 50 loss: tensor(0.9719)\n",
            "epoch: 51 loss: tensor(0.9754)\n",
            "epoch: 52 loss: tensor(0.9724)\n",
            "epoch: 53 loss: tensor(0.9682)\n",
            "epoch: 54 loss: tensor(0.9728)\n",
            "epoch: 55 loss: tensor(0.9711)\n",
            "epoch: 56 loss: tensor(0.9678)\n",
            "epoch: 57 loss: tensor(0.9679)\n",
            "epoch: 58 loss: tensor(0.9701)\n",
            "epoch: 59 loss: tensor(0.9642)\n",
            "epoch: 60 loss: tensor(0.9653)\n",
            "epoch: 61 loss: tensor(0.9586)\n",
            "epoch: 62 loss: tensor(0.9564)\n",
            "epoch: 63 loss: tensor(0.9566)\n",
            "epoch: 64 loss: tensor(0.9569)\n",
            "epoch: 65 loss: tensor(0.9597)\n",
            "epoch: 66 loss: tensor(0.9618)\n",
            "epoch: 67 loss: tensor(0.9593)\n",
            "epoch: 68 loss: tensor(0.9567)\n",
            "epoch: 69 loss: tensor(0.9568)\n",
            "epoch: 70 loss: tensor(0.9572)\n",
            "epoch: 71 loss: tensor(0.9563)\n",
            "epoch: 72 loss: tensor(0.9568)\n",
            "epoch: 73 loss: tensor(0.9579)\n",
            "epoch: 74 loss: tensor(0.9567)\n",
            "epoch: 75 loss: tensor(0.9545)\n",
            "epoch: 76 loss: tensor(0.9533)\n",
            "epoch: 77 loss: tensor(0.9517)\n",
            "epoch: 78 loss: tensor(0.9511)\n",
            "epoch: 79 loss: tensor(0.9482)\n",
            "epoch: 80 loss: tensor(0.9494)\n",
            "epoch: 81 loss: tensor(0.9482)\n",
            "epoch: 82 loss: tensor(0.9479)\n",
            "epoch: 83 loss: tensor(0.9452)\n",
            "epoch: 84 loss: tensor(0.9447)\n",
            "epoch: 85 loss: tensor(0.9416)\n",
            "epoch: 86 loss: tensor(0.9439)\n",
            "epoch: 87 loss: tensor(0.9420)\n",
            "epoch: 88 loss: tensor(0.9435)\n",
            "epoch: 89 loss: tensor(0.9407)\n",
            "epoch: 90 loss: tensor(0.9405)\n",
            "epoch: 91 loss: tensor(0.9391)\n",
            "epoch: 92 loss: tensor(0.9402)\n",
            "epoch: 93 loss: tensor(0.9379)\n",
            "epoch: 94 loss: tensor(0.9385)\n",
            "epoch: 95 loss: tensor(0.9365)\n",
            "epoch: 96 loss: tensor(0.9374)\n",
            "epoch: 97 loss: tensor(0.9353)\n",
            "epoch: 98 loss: tensor(0.9370)\n",
            "epoch: 99 loss: tensor(0.9343)\n",
            "epoch: 100 loss: tensor(0.9354)\n",
            "epoch: 101 loss: tensor(0.9328)\n",
            "epoch: 102 loss: tensor(0.9341)\n",
            "epoch: 103 loss: tensor(0.9332)\n",
            "epoch: 104 loss: tensor(0.9334)\n",
            "epoch: 105 loss: tensor(0.9315)\n",
            "epoch: 106 loss: tensor(0.9331)\n",
            "epoch: 107 loss: tensor(0.9317)\n",
            "epoch: 108 loss: tensor(0.9327)\n",
            "epoch: 109 loss: tensor(0.9310)\n",
            "epoch: 110 loss: tensor(0.9316)\n",
            "epoch: 111 loss: tensor(0.9295)\n",
            "epoch: 112 loss: tensor(0.9306)\n",
            "epoch: 113 loss: tensor(0.9284)\n",
            "epoch: 114 loss: tensor(0.9297)\n",
            "epoch: 115 loss: tensor(0.9285)\n",
            "epoch: 116 loss: tensor(0.9291)\n",
            "epoch: 117 loss: tensor(0.9276)\n",
            "epoch: 118 loss: tensor(0.9293)\n",
            "epoch: 119 loss: tensor(0.9269)\n",
            "epoch: 120 loss: tensor(0.9276)\n",
            "epoch: 121 loss: tensor(0.9258)\n",
            "epoch: 122 loss: tensor(0.9265)\n",
            "epoch: 123 loss: tensor(0.9253)\n",
            "epoch: 124 loss: tensor(0.9264)\n",
            "epoch: 125 loss: tensor(0.9246)\n",
            "epoch: 126 loss: tensor(0.9260)\n",
            "epoch: 127 loss: tensor(0.9244)\n",
            "epoch: 128 loss: tensor(0.9256)\n",
            "epoch: 129 loss: tensor(0.9236)\n",
            "epoch: 130 loss: tensor(0.9251)\n",
            "epoch: 131 loss: tensor(0.9230)\n",
            "epoch: 132 loss: tensor(0.9241)\n",
            "epoch: 133 loss: tensor(0.9224)\n",
            "epoch: 134 loss: tensor(0.9234)\n",
            "epoch: 135 loss: tensor(0.9217)\n",
            "epoch: 136 loss: tensor(0.9230)\n",
            "epoch: 137 loss: tensor(0.9214)\n",
            "epoch: 138 loss: tensor(0.9225)\n",
            "epoch: 139 loss: tensor(0.9211)\n",
            "epoch: 140 loss: tensor(0.9217)\n",
            "epoch: 141 loss: tensor(0.9210)\n",
            "epoch: 142 loss: tensor(0.9212)\n",
            "epoch: 143 loss: tensor(0.9199)\n",
            "epoch: 144 loss: tensor(0.9205)\n",
            "epoch: 145 loss: tensor(0.9194)\n",
            "epoch: 146 loss: tensor(0.9199)\n",
            "epoch: 147 loss: tensor(0.9192)\n",
            "epoch: 148 loss: tensor(0.9206)\n",
            "epoch: 149 loss: tensor(0.9183)\n",
            "epoch: 150 loss: tensor(0.9196)\n",
            "epoch: 151 loss: tensor(0.9180)\n",
            "epoch: 152 loss: tensor(0.9191)\n",
            "epoch: 153 loss: tensor(0.9176)\n",
            "epoch: 154 loss: tensor(0.9189)\n",
            "epoch: 155 loss: tensor(0.9172)\n",
            "epoch: 156 loss: tensor(0.9183)\n",
            "epoch: 157 loss: tensor(0.9170)\n",
            "epoch: 158 loss: tensor(0.9179)\n",
            "epoch: 159 loss: tensor(0.9167)\n",
            "epoch: 160 loss: tensor(0.9175)\n",
            "epoch: 161 loss: tensor(0.9163)\n",
            "epoch: 162 loss: tensor(0.9174)\n",
            "epoch: 163 loss: tensor(0.9160)\n",
            "epoch: 164 loss: tensor(0.9167)\n",
            "epoch: 165 loss: tensor(0.9157)\n",
            "epoch: 166 loss: tensor(0.9165)\n",
            "epoch: 167 loss: tensor(0.9155)\n",
            "epoch: 168 loss: tensor(0.9163)\n",
            "epoch: 169 loss: tensor(0.9152)\n",
            "epoch: 170 loss: tensor(0.9158)\n",
            "epoch: 171 loss: tensor(0.9149)\n",
            "epoch: 172 loss: tensor(0.9155)\n",
            "epoch: 173 loss: tensor(0.9148)\n",
            "epoch: 174 loss: tensor(0.9157)\n",
            "epoch: 175 loss: tensor(0.9146)\n",
            "epoch: 176 loss: tensor(0.9150)\n",
            "epoch: 177 loss: tensor(0.9141)\n",
            "epoch: 178 loss: tensor(0.9150)\n",
            "epoch: 179 loss: tensor(0.9138)\n",
            "epoch: 180 loss: tensor(0.9144)\n",
            "epoch: 181 loss: tensor(0.9139)\n",
            "epoch: 182 loss: tensor(0.9142)\n",
            "epoch: 183 loss: tensor(0.9133)\n",
            "epoch: 184 loss: tensor(0.9137)\n",
            "epoch: 185 loss: tensor(0.9128)\n",
            "epoch: 186 loss: tensor(0.9138)\n",
            "epoch: 187 loss: tensor(0.9128)\n",
            "epoch: 188 loss: tensor(0.9137)\n",
            "epoch: 189 loss: tensor(0.9130)\n",
            "epoch: 190 loss: tensor(0.9134)\n",
            "epoch: 191 loss: tensor(0.9126)\n",
            "epoch: 192 loss: tensor(0.9128)\n",
            "epoch: 193 loss: tensor(0.9119)\n",
            "epoch: 194 loss: tensor(0.9128)\n",
            "epoch: 195 loss: tensor(0.9118)\n",
            "epoch: 196 loss: tensor(0.9126)\n",
            "epoch: 197 loss: tensor(0.9114)\n",
            "epoch: 198 loss: tensor(0.9121)\n",
            "epoch: 199 loss: tensor(0.9111)\n",
            "epoch: 200 loss: tensor(0.9120)\n"
          ],
          "name": "stdout"
        }
      ]
    },
    {
      "cell_type": "markdown",
      "metadata": {
        "id": "Tu5Qj9cNc_G5",
        "colab_type": "text"
      },
      "source": [
        "## Testing the SAE model"
      ]
    },
    {
      "cell_type": "code",
      "metadata": {
        "id": "ekjTOCygiJ6p",
        "colab_type": "code",
        "colab": {
          "base_uri": "https://localhost:8080/",
          "height": 34
        },
        "outputId": "4a2e3481-218d-46ea-f3ab-61247e75244e"
      },
      "source": [
        "test_loss = 0\n",
        "s = 0.\n",
        "for id_user in range(num_users):\n",
        "  output = Variable(training_set[id_user]).unsqueeze(0)\n",
        "  target = Variable(test_set[id_user]).unsqueeze(0)\n",
        "  if torch.sum(target.data > 0) > 0:\n",
        "    output = sae(input)\n",
        "    target.require_grad = False\n",
        "    output[target == 0] = 0\n",
        "    loss = criterion(output, target)\n",
        "    mean_corrector = num_movies/float(torch.sum(target.data > 0) + 1e-10)\n",
        "    test_loss += np.sqrt(loss.data*mean_corrector)\n",
        "    s += 1.\n",
        "print('test loss: '+str(test_loss/s))"
      ],
      "execution_count": 19,
      "outputs": [
        {
          "output_type": "stream",
          "text": [
            "test loss: tensor(1.0062)\n"
          ],
          "name": "stdout"
        }
      ]
    }
  ]
}